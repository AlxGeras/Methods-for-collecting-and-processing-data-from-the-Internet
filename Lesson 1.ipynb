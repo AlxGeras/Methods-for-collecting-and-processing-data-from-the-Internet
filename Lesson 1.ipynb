{
 "cells": [
  {
   "cell_type": "markdown",
   "metadata": {},
   "source": [
    "# Урок 1. Основы клиент-серверного взаимодействия. Парсинг API"
   ]
  },
  {
   "cell_type": "raw",
   "metadata": {},
   "source": [
    "1. Посмотреть документацию к API GitHub, разобраться как вывести список репозиториев для конкретного пользователя, сохранить JSON-вывод в файле *.json."
   ]
  },
  {
   "cell_type": "code",
   "execution_count": 1,
   "metadata": {},
   "outputs": [],
   "source": [
    "import requests\n",
    "import json"
   ]
  },
  {
   "cell_type": "code",
   "execution_count": 2,
   "metadata": {},
   "outputs": [],
   "source": [
    "url = 'https://api.github.com'\n",
    "user='AlxGeras'"
   ]
  },
  {
   "cell_type": "code",
   "execution_count": 3,
   "metadata": {},
   "outputs": [],
   "source": [
    "response = requests.get(f'{url}/users/{user}/repos')"
   ]
  },
  {
   "cell_type": "code",
   "execution_count": 5,
   "metadata": {},
   "outputs": [],
   "source": [
    "with open('data.json', 'w') as f:\n",
    "    json.dump(response.json(), f)"
   ]
  },
  {
   "cell_type": "code",
   "execution_count": 7,
   "metadata": {},
   "outputs": [
    {
     "name": "stdout",
     "output_type": "stream",
     "text": [
      "Python-for-DS\n",
      "Python_1\n"
     ]
    }
   ],
   "source": [
    "for i in response.json():\n",
    "    print(i['name'])"
   ]
  },
  {
   "cell_type": "raw",
   "metadata": {},
   "source": [
    "2. Изучить список открытых API. Найти среди них любое, требующее авторизацию (любого типа). Выполнить запросы к нему, пройдя авторизацию. Ответ сервера записать в файл."
   ]
  },
  {
   "cell_type": "code",
   "execution_count": null,
   "metadata": {},
   "outputs": [],
   "source": [
    "from pprint import pprint"
   ]
  },
  {
   "cell_type": "code",
   "execution_count": 9,
   "metadata": {},
   "outputs": [],
   "source": [
    "url = 'http://htmlweb.ru/geo/api.php?json'\n",
    "key = 'a6b5fdb6c6c8e561074eeebad7915f62'"
   ]
  },
  {
   "cell_type": "code",
   "execution_count": 10,
   "metadata": {},
   "outputs": [],
   "source": [
    "params = {'telcod':'+79531869845',\n",
    "          'api_key':key}"
   ]
  },
  {
   "cell_type": "code",
   "execution_count": 11,
   "metadata": {},
   "outputs": [],
   "source": [
    "response = requests.get(url,params=params)"
   ]
  },
  {
   "cell_type": "code",
   "execution_count": 12,
   "metadata": {},
   "outputs": [
    {
     "data": {
      "text/plain": [
       "{'country': {'name': 'Россия',\n",
       "  'fullname': 'Российская Федерация',\n",
       "  'english': 'Russia',\n",
       "  'id': 'RU',\n",
       "  'country_code3': 'RUS',\n",
       "  'iso': 643,\n",
       "  'telcod': 7,\n",
       "  'telcod_len': 11,\n",
       "  'location': 'Европа',\n",
       "  'capital': 1,\n",
       "  'mcc': 250,\n",
       "  'lang': 'русский',\n",
       "  'langcod': 'ru'},\n",
       " 'region': {'id': 64,\n",
       "  'name': 'Тульская область',\n",
       "  'okrug': 'Центральный федеральный округ',\n",
       "  'autocod': 71,\n",
       "  'capital': 2231,\n",
       "  'english': 'Tula oblast',\n",
       "  'iso': 'TUL',\n",
       "  'country': 'RU'},\n",
       " 'okrug': 'Центральный федеральный округ',\n",
       " 'autocod': 71,\n",
       " 'fullname': 'Российская Федерация',\n",
       " 'english': 'Russia',\n",
       " 'iso': 643,\n",
       " 'country_telcod': 7,\n",
       " 'location': 'Европа',\n",
       " 'capital': {'id': 1,\n",
       "  'name': 'Москва',\n",
       "  'area': 1,\n",
       "  'telcod': '495,496,498,499',\n",
       "  'latitude': 55.7558,\n",
       "  'longitude': 37.6176,\n",
       "  'time_zone': 3,\n",
       "  'english': 'Moscow',\n",
       "  'country': 'RU',\n",
       "  'sound': 'M210',\n",
       "  'level': 1,\n",
       "  'iso': 'MOW',\n",
       "  'vid': 1,\n",
       "  'post': 101000,\n",
       "  'wiki': 'ru.wikipedia.org/wiki/%D0%9A%D0%BE%D1%80%D0%BE%D0%BB%D1%91%D0%B2_(%D0%B3%D0%BE%D1%80%D0%BE%D0%B4)'},\n",
       " 'time_zone': 3,\n",
       " 'ImgFlag': \"<img src='http://htmlweb.ru/geo/flags/ru.png'>\",\n",
       " '0': {'id': 2231,\n",
       "  'name': 'Тула',\n",
       "  'area': 64,\n",
       "  'telcod': 4872,\n",
       "  'latitude': 54.1967,\n",
       "  'longitude': 37.6178,\n",
       "  'time_zone': 3,\n",
       "  'tz': '',\n",
       "  'english': 'Tula',\n",
       "  'rajon': 3813,\n",
       "  'sub_rajon': 0,\n",
       "  'country': 'RU',\n",
       "  'sound': 'T400',\n",
       "  'level': 1,\n",
       "  'iso': '',\n",
       "  'vid': 1,\n",
       "  'post': 300000,\n",
       "  'geonameid': None,\n",
       "  'wiki': None,\n",
       "  'oper_id': 3994,\n",
       "  'oper': 'ООО \"Т2 Мобайл\"',\n",
       "  'def': '79531800000-79531999999',\n",
       "  'mobile': True,\n",
       "  'oper_brand': 'Tele2'},\n",
       " 'limit': 19,\n",
       " 'balans': 0}"
      ]
     },
     "execution_count": 12,
     "metadata": {},
     "output_type": "execute_result"
    }
   ],
   "source": [
    "response.json()"
   ]
  },
  {
   "cell_type": "code",
   "execution_count": 13,
   "metadata": {},
   "outputs": [],
   "source": [
    "with open('geophone.json', 'w') as f:\n",
    "    json.dump(response.json(), f)"
   ]
  },
  {
   "cell_type": "code",
   "execution_count": 53,
   "metadata": {},
   "outputs": [],
   "source": [
    "with open('geophone.json') as f:\n",
    "    geophone = json.load(f)"
   ]
  },
  {
   "cell_type": "code",
   "execution_count": 54,
   "metadata": {},
   "outputs": [
    {
     "name": "stdout",
     "output_type": "stream",
     "text": [
      "{\n",
      "\"country\": {\n",
      "\"name\": \"Россия\",\n",
      "\"fullname\": \"Российская Федерация\",\n",
      "\"english\": \"Russia\",\n",
      "\"id\": \"RU\",\n",
      "\"country_code3\": \"RUS\",\n",
      "\"iso\": 643,\n",
      "\"telcod\": 7,\n",
      "\"telcod_len\": 11,\n",
      "\"location\": \"Европа\",\n",
      "\"capital\": 1,\n",
      "\"mcc\": 250,\n",
      "\"lang\": \"русский\",\n",
      "\"langcod\": \"ru\"\n",
      "},\n",
      "\"region\": {\n",
      "\"id\": 64,\n",
      "\"name\": \"Тульская область\",\n",
      "\"okrug\": \"Центральный федеральный округ\",\n",
      "\"autocod\": 71,\n",
      "\"capital\": 2231,\n",
      "\"english\": \"Tula oblast\",\n",
      "\"iso\": \"TUL\",\n",
      "\"country\": \"RU\"\n",
      "},\n",
      "\"okrug\": \"Центральный федеральный округ\",\n",
      "\"autocod\": 71,\n",
      "\"fullname\": \"Российская Федерация\",\n",
      "\"english\": \"Russia\",\n",
      "\"iso\": 643,\n",
      "\"country_telcod\": 7,\n",
      "\"location\": \"Европа\",\n",
      "\"capital\": {\n",
      "\"id\": 1,\n",
      "\"name\": \"Москва\",\n",
      "\"area\": 1,\n",
      "\"telcod\": \"495,496,498,499\",\n",
      "\"latitude\": 55.7558,\n",
      "\"longitude\": 37.6176,\n",
      "\"time_zone\": 3,\n",
      "\"english\": \"Moscow\",\n",
      "\"country\": \"RU\",\n",
      "\"sound\": \"M210\",\n",
      "\"level\": 1,\n",
      "\"iso\": \"MOW\",\n",
      "\"vid\": 1,\n",
      "\"post\": 101000,\n",
      "\"wiki\": \"ru.wikipedia.org/wiki/%D0%9A%D0%BE%D1%80%D0%BE%D0%BB%D1%91%D0%B2_(%D0%B3%D0%BE%D1%80%D0%BE%D0%B4)\"\n",
      "},\n",
      "\"time_zone\": 3,\n",
      "\"ImgFlag\": \"<img src='http://htmlweb.ru/geo/flags/ru.png'>\",\n",
      "\"0\": {\n",
      "\"id\": 2231,\n",
      "\"name\": \"Тула\",\n",
      "\"area\": 64,\n",
      "\"telcod\": 4872,\n",
      "\"latitude\": 54.1967,\n",
      "\"longitude\": 37.6178,\n",
      "\"time_zone\": 3,\n",
      "\"tz\": \"\",\n",
      "\"english\": \"Tula\",\n",
      "\"rajon\": 3813,\n",
      "\"sub_rajon\": 0,\n",
      "\"country\": \"RU\",\n",
      "\"sound\": \"T400\",\n",
      "\"level\": 1,\n",
      "\"iso\": \"\",\n",
      "\"vid\": 1,\n",
      "\"post\": 300000,\n",
      "\"geonameid\": null,\n",
      "\"wiki\": null,\n",
      "\"oper_id\": 3994,\n",
      "\"oper\": \"ООО \\\"Т2 Мобайл\\\"\",\n",
      "\"def\": \"79531800000-79531999999\",\n",
      "\"mobile\": true,\n",
      "\"oper_brand\": \"Tele2\"\n",
      "},\n",
      "\"limit\": 19,\n",
      "\"balans\": 0\n",
      "}\n"
     ]
    }
   ],
   "source": [
    "geophone = json.dumps(geophone,sort_keys=False,indent=0, ensure_ascii=False)\n",
    "print(geophone)"
   ]
  },
  {
   "cell_type": "code",
   "execution_count": null,
   "metadata": {},
   "outputs": [],
   "source": []
  }
 ],
 "metadata": {
  "kernelspec": {
   "display_name": "Python 3",
   "language": "python",
   "name": "python3"
  },
  "language_info": {
   "codemirror_mode": {
    "name": "ipython",
    "version": 3
   },
   "file_extension": ".py",
   "mimetype": "text/x-python",
   "name": "python",
   "nbconvert_exporter": "python",
   "pygments_lexer": "ipython3",
   "version": "3.7.6"
  }
 },
 "nbformat": 4,
 "nbformat_minor": 4
}
